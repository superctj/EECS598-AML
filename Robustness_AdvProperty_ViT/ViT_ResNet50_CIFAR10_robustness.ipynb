{
  "nbformat": 4,
  "nbformat_minor": 0,
  "metadata": {
    "colab": {
      "name": "ciFar10_Attack.ipynb",
      "provenance": [],
      "collapsed_sections": [],
      "toc_visible": true,
      "machine_shape": "hm"
    },
    "kernelspec": {
      "name": "python3",
      "display_name": "Python 3"
    },
    "language_info": {
      "name": "python"
    },
    "widgets": {
      "application/vnd.jupyter.widget-state+json": {
        "9f0976720aa542a6a8000ea19f84f187": {
          "model_module": "@jupyter-widgets/controls",
          "model_name": "HBoxModel",
          "state": {
            "_view_name": "HBoxView",
            "_dom_classes": [],
            "_model_name": "HBoxModel",
            "_view_module": "@jupyter-widgets/controls",
            "_model_module_version": "1.5.0",
            "_view_count": null,
            "_view_module_version": "1.5.0",
            "box_style": "",
            "layout": "IPY_MODEL_538d601f02dc4cb59d32bd57520064e2",
            "_model_module": "@jupyter-widgets/controls",
            "children": [
              "IPY_MODEL_d522ef92136f4a05814426bc7e9837a4",
              "IPY_MODEL_3e20c0f04ffb4cb48fcf87486a4ae365"
            ]
          }
        },
        "538d601f02dc4cb59d32bd57520064e2": {
          "model_module": "@jupyter-widgets/base",
          "model_name": "LayoutModel",
          "state": {
            "_view_name": "LayoutView",
            "grid_template_rows": null,
            "right": null,
            "justify_content": null,
            "_view_module": "@jupyter-widgets/base",
            "overflow": null,
            "_model_module_version": "1.2.0",
            "_view_count": null,
            "flex_flow": null,
            "width": null,
            "min_width": null,
            "border": null,
            "align_items": null,
            "bottom": null,
            "_model_module": "@jupyter-widgets/base",
            "top": null,
            "grid_column": null,
            "overflow_y": null,
            "overflow_x": null,
            "grid_auto_flow": null,
            "grid_area": null,
            "grid_template_columns": null,
            "flex": null,
            "_model_name": "LayoutModel",
            "justify_items": null,
            "grid_row": null,
            "max_height": null,
            "align_content": null,
            "visibility": null,
            "align_self": null,
            "height": null,
            "min_height": null,
            "padding": null,
            "grid_auto_rows": null,
            "grid_gap": null,
            "max_width": null,
            "order": null,
            "_view_module_version": "1.2.0",
            "grid_template_areas": null,
            "object_position": null,
            "object_fit": null,
            "grid_auto_columns": null,
            "margin": null,
            "display": null,
            "left": null
          }
        },
        "d522ef92136f4a05814426bc7e9837a4": {
          "model_module": "@jupyter-widgets/controls",
          "model_name": "FloatProgressModel",
          "state": {
            "_view_name": "ProgressView",
            "style": "IPY_MODEL_46d44b9abde64a02b52eb0bc5f306442",
            "_dom_classes": [],
            "description": "100%",
            "_model_name": "FloatProgressModel",
            "bar_style": "success",
            "max": 102502400,
            "_view_module": "@jupyter-widgets/controls",
            "_model_module_version": "1.5.0",
            "value": 102502400,
            "_view_count": null,
            "_view_module_version": "1.5.0",
            "orientation": "horizontal",
            "min": 0,
            "description_tooltip": null,
            "_model_module": "@jupyter-widgets/controls",
            "layout": "IPY_MODEL_305e1066a0424a168675967f1f55830e"
          }
        },
        "3e20c0f04ffb4cb48fcf87486a4ae365": {
          "model_module": "@jupyter-widgets/controls",
          "model_name": "HTMLModel",
          "state": {
            "_view_name": "HTMLView",
            "style": "IPY_MODEL_452fe99fb4f447078b27ce452377f68c",
            "_dom_classes": [],
            "description": "",
            "_model_name": "HTMLModel",
            "placeholder": "​",
            "_view_module": "@jupyter-widgets/controls",
            "_model_module_version": "1.5.0",
            "value": " 97.8M/97.8M [00:17&lt;00:00, 5.99MB/s]",
            "_view_count": null,
            "_view_module_version": "1.5.0",
            "description_tooltip": null,
            "_model_module": "@jupyter-widgets/controls",
            "layout": "IPY_MODEL_4fae14e57bb54361aeddd4adea252c57"
          }
        },
        "46d44b9abde64a02b52eb0bc5f306442": {
          "model_module": "@jupyter-widgets/controls",
          "model_name": "ProgressStyleModel",
          "state": {
            "_view_name": "StyleView",
            "_model_name": "ProgressStyleModel",
            "description_width": "initial",
            "_view_module": "@jupyter-widgets/base",
            "_model_module_version": "1.5.0",
            "_view_count": null,
            "_view_module_version": "1.2.0",
            "bar_color": null,
            "_model_module": "@jupyter-widgets/controls"
          }
        },
        "305e1066a0424a168675967f1f55830e": {
          "model_module": "@jupyter-widgets/base",
          "model_name": "LayoutModel",
          "state": {
            "_view_name": "LayoutView",
            "grid_template_rows": null,
            "right": null,
            "justify_content": null,
            "_view_module": "@jupyter-widgets/base",
            "overflow": null,
            "_model_module_version": "1.2.0",
            "_view_count": null,
            "flex_flow": null,
            "width": null,
            "min_width": null,
            "border": null,
            "align_items": null,
            "bottom": null,
            "_model_module": "@jupyter-widgets/base",
            "top": null,
            "grid_column": null,
            "overflow_y": null,
            "overflow_x": null,
            "grid_auto_flow": null,
            "grid_area": null,
            "grid_template_columns": null,
            "flex": null,
            "_model_name": "LayoutModel",
            "justify_items": null,
            "grid_row": null,
            "max_height": null,
            "align_content": null,
            "visibility": null,
            "align_self": null,
            "height": null,
            "min_height": null,
            "padding": null,
            "grid_auto_rows": null,
            "grid_gap": null,
            "max_width": null,
            "order": null,
            "_view_module_version": "1.2.0",
            "grid_template_areas": null,
            "object_position": null,
            "object_fit": null,
            "grid_auto_columns": null,
            "margin": null,
            "display": null,
            "left": null
          }
        },
        "452fe99fb4f447078b27ce452377f68c": {
          "model_module": "@jupyter-widgets/controls",
          "model_name": "DescriptionStyleModel",
          "state": {
            "_view_name": "StyleView",
            "_model_name": "DescriptionStyleModel",
            "description_width": "",
            "_view_module": "@jupyter-widgets/base",
            "_model_module_version": "1.5.0",
            "_view_count": null,
            "_view_module_version": "1.2.0",
            "_model_module": "@jupyter-widgets/controls"
          }
        },
        "4fae14e57bb54361aeddd4adea252c57": {
          "model_module": "@jupyter-widgets/base",
          "model_name": "LayoutModel",
          "state": {
            "_view_name": "LayoutView",
            "grid_template_rows": null,
            "right": null,
            "justify_content": null,
            "_view_module": "@jupyter-widgets/base",
            "overflow": null,
            "_model_module_version": "1.2.0",
            "_view_count": null,
            "flex_flow": null,
            "width": null,
            "min_width": null,
            "border": null,
            "align_items": null,
            "bottom": null,
            "_model_module": "@jupyter-widgets/base",
            "top": null,
            "grid_column": null,
            "overflow_y": null,
            "overflow_x": null,
            "grid_auto_flow": null,
            "grid_area": null,
            "grid_template_columns": null,
            "flex": null,
            "_model_name": "LayoutModel",
            "justify_items": null,
            "grid_row": null,
            "max_height": null,
            "align_content": null,
            "visibility": null,
            "align_self": null,
            "height": null,
            "min_height": null,
            "padding": null,
            "grid_auto_rows": null,
            "grid_gap": null,
            "max_width": null,
            "order": null,
            "_view_module_version": "1.2.0",
            "grid_template_areas": null,
            "object_position": null,
            "object_fit": null,
            "grid_auto_columns": null,
            "margin": null,
            "display": null,
            "left": null
          }
        }
      }
    }
  },
  "cells": [
    {
      "cell_type": "code",
      "metadata": {
        "colab": {
          "base_uri": "https://localhost:8080/"
        },
        "id": "hoGroBPnjmo3",
        "outputId": "d739e5fb-e40a-4fc4-b9b3-fecc6dfca6d3"
      },
      "source": [
        "!pip install timm\n",
        "!pip install foolbox\n",
        "from google.colab import drive\n",
        "drive.mount('/content/drive')\n",
        "%cd /content/drive/My Drive/ViT\n",
        "# %pwd\n",
        "# %rm -rf TinyImageNet/\n",
        "# !unzip TinyImageNet.zip\n",
        "\n",
        "# !wget http://cs231n.stanford.edu/tiny-imagenet-200.zip\n",
        "# !unzip tiny-imagenet-200.zip\n",
        "# !rm tiny-imagenet-200.zip\n"
      ],
      "execution_count": null,
      "outputs": [
        {
          "output_type": "stream",
          "text": [
            "Collecting timm\n",
            "\u001b[?25l  Downloading https://files.pythonhosted.org/packages/9e/89/d94f59780b5dd973154bf506d8ce598f6bfe7cc44dd445d644d6d3be8c39/timm-0.4.5-py3-none-any.whl (287kB)\n",
            "\r\u001b[K     |█▏                              | 10kB 19.0MB/s eta 0:00:01\r\u001b[K     |██▎                             | 20kB 18.1MB/s eta 0:00:01\r\u001b[K     |███▍                            | 30kB 9.8MB/s eta 0:00:01\r\u001b[K     |████▋                           | 40kB 7.9MB/s eta 0:00:01\r\u001b[K     |█████▊                          | 51kB 5.3MB/s eta 0:00:01\r\u001b[K     |██████▉                         | 61kB 5.9MB/s eta 0:00:01\r\u001b[K     |████████                        | 71kB 6.3MB/s eta 0:00:01\r\u001b[K     |█████████▏                      | 81kB 6.3MB/s eta 0:00:01\r\u001b[K     |██████████▎                     | 92kB 6.0MB/s eta 0:00:01\r\u001b[K     |███████████▍                    | 102kB 6.6MB/s eta 0:00:01\r\u001b[K     |████████████▌                   | 112kB 6.6MB/s eta 0:00:01\r\u001b[K     |█████████████▊                  | 122kB 6.6MB/s eta 0:00:01\r\u001b[K     |██████████████▉                 | 133kB 6.6MB/s eta 0:00:01\r\u001b[K     |████████████████                | 143kB 6.6MB/s eta 0:00:01\r\u001b[K     |█████████████████               | 153kB 6.6MB/s eta 0:00:01\r\u001b[K     |██████████████████▎             | 163kB 6.6MB/s eta 0:00:01\r\u001b[K     |███████████████████▍            | 174kB 6.6MB/s eta 0:00:01\r\u001b[K     |████████████████████▌           | 184kB 6.6MB/s eta 0:00:01\r\u001b[K     |█████████████████████▋          | 194kB 6.6MB/s eta 0:00:01\r\u001b[K     |██████████████████████▉         | 204kB 6.6MB/s eta 0:00:01\r\u001b[K     |████████████████████████        | 215kB 6.6MB/s eta 0:00:01\r\u001b[K     |█████████████████████████       | 225kB 6.6MB/s eta 0:00:01\r\u001b[K     |██████████████████████████▏     | 235kB 6.6MB/s eta 0:00:01\r\u001b[K     |███████████████████████████▍    | 245kB 6.6MB/s eta 0:00:01\r\u001b[K     |████████████████████████████▌   | 256kB 6.6MB/s eta 0:00:01\r\u001b[K     |█████████████████████████████▋  | 266kB 6.6MB/s eta 0:00:01\r\u001b[K     |██████████████████████████████▉ | 276kB 6.6MB/s eta 0:00:01\r\u001b[K     |████████████████████████████████| 286kB 6.6MB/s eta 0:00:01\r\u001b[K     |████████████████████████████████| 296kB 6.6MB/s \n",
            "\u001b[?25hRequirement already satisfied: torchvision in /usr/local/lib/python3.7/dist-packages (from timm) (0.9.1+cu101)\n",
            "Requirement already satisfied: torch>=1.4 in /usr/local/lib/python3.7/dist-packages (from timm) (1.8.1+cu101)\n",
            "Requirement already satisfied: pillow>=4.1.1 in /usr/local/lib/python3.7/dist-packages (from torchvision->timm) (7.1.2)\n",
            "Requirement already satisfied: numpy in /usr/local/lib/python3.7/dist-packages (from torchvision->timm) (1.19.5)\n",
            "Requirement already satisfied: typing-extensions in /usr/local/lib/python3.7/dist-packages (from torch>=1.4->timm) (3.7.4.3)\n",
            "Installing collected packages: timm\n",
            "Successfully installed timm-0.4.5\n",
            "Collecting foolbox\n",
            "\u001b[?25l  Downloading https://files.pythonhosted.org/packages/60/ff/1ba817ad9aa7c2ca28fb809d64939bee7311e3e62fdd87c4011232c4640e/foolbox-3.3.1-py3-none-any.whl (1.7MB)\n",
            "\u001b[K     |████████████████████████████████| 1.7MB 5.2MB/s \n",
            "\u001b[?25hRequirement already satisfied: typing-extensions>=3.7.4.1 in /usr/local/lib/python3.7/dist-packages (from foolbox) (3.7.4.3)\n",
            "Requirement already satisfied: setuptools in /usr/local/lib/python3.7/dist-packages (from foolbox) (56.0.0)\n",
            "Collecting requests>=2.24.0\n",
            "\u001b[?25l  Downloading https://files.pythonhosted.org/packages/29/c1/24814557f1d22c56d50280771a17307e6bf87b70727d975fd6b2ce6b014a/requests-2.25.1-py2.py3-none-any.whl (61kB)\n",
            "\u001b[K     |████████████████████████████████| 61kB 6.1MB/s \n",
            "\u001b[?25hRequirement already satisfied: scipy in /usr/local/lib/python3.7/dist-packages (from foolbox) (1.4.1)\n",
            "Collecting GitPython>=3.0.7\n",
            "\u001b[?25l  Downloading https://files.pythonhosted.org/packages/a6/99/98019716955ba243657daedd1de8f3a88ca1f5b75057c38e959db22fb87b/GitPython-3.1.14-py3-none-any.whl (159kB)\n",
            "\u001b[K     |████████████████████████████████| 163kB 14.7MB/s \n",
            "\u001b[?25hCollecting eagerpy==0.29.0\n",
            "  Downloading https://files.pythonhosted.org/packages/e1/07/54994565da4fc5a4840d3a434fb9bf3835b4a4e68c931ccfcc327d568f95/eagerpy-0.29.0-py3-none-any.whl\n",
            "Requirement already satisfied: numpy in /usr/local/lib/python3.7/dist-packages (from foolbox) (1.19.5)\n",
            "Requirement already satisfied: urllib3<1.27,>=1.21.1 in /usr/local/lib/python3.7/dist-packages (from requests>=2.24.0->foolbox) (1.24.3)\n",
            "Requirement already satisfied: chardet<5,>=3.0.2 in /usr/local/lib/python3.7/dist-packages (from requests>=2.24.0->foolbox) (3.0.4)\n",
            "Requirement already satisfied: certifi>=2017.4.17 in /usr/local/lib/python3.7/dist-packages (from requests>=2.24.0->foolbox) (2020.12.5)\n",
            "Requirement already satisfied: idna<3,>=2.5 in /usr/local/lib/python3.7/dist-packages (from requests>=2.24.0->foolbox) (2.10)\n",
            "Collecting gitdb<5,>=4.0.1\n",
            "\u001b[?25l  Downloading https://files.pythonhosted.org/packages/ea/e8/f414d1a4f0bbc668ed441f74f44c116d9816833a48bf81d22b697090dba8/gitdb-4.0.7-py3-none-any.whl (63kB)\n",
            "\u001b[K     |████████████████████████████████| 71kB 8.7MB/s \n",
            "\u001b[?25hCollecting smmap<5,>=3.0.1\n",
            "  Downloading https://files.pythonhosted.org/packages/68/ee/d540eb5e5996eb81c26ceffac6ee49041d473bc5125f2aa995cf51ec1cf1/smmap-4.0.0-py2.py3-none-any.whl\n",
            "\u001b[31mERROR: google-colab 1.0.0 has requirement requests~=2.23.0, but you'll have requests 2.25.1 which is incompatible.\u001b[0m\n",
            "\u001b[31mERROR: datascience 0.10.6 has requirement folium==0.2.1, but you'll have folium 0.8.3 which is incompatible.\u001b[0m\n",
            "Installing collected packages: requests, smmap, gitdb, GitPython, eagerpy, foolbox\n",
            "  Found existing installation: requests 2.23.0\n",
            "    Uninstalling requests-2.23.0:\n",
            "      Successfully uninstalled requests-2.23.0\n",
            "Successfully installed GitPython-3.1.14 eagerpy-0.29.0 foolbox-3.3.1 gitdb-4.0.7 requests-2.25.1 smmap-4.0.0\n",
            "Mounted at /content/drive\n",
            "/content/drive/My Drive/ViT\n"
          ],
          "name": "stdout"
        }
      ]
    },
    {
      "cell_type": "code",
      "metadata": {
        "id": "awlAR8wckLE8"
      },
      "source": [
        "import timm\n",
        "import urllib\n",
        "from PIL import Image\n",
        "from timm.data import resolve_data_config\n",
        "from timm.data.transforms_factory import create_transform\n",
        "\n",
        "\n",
        "from foolbox import PyTorchModel, accuracy, samples\n",
        "from foolbox.attacks import LinfPGD, FGSM\n",
        "import foolbox.attacks as fa\n",
        "\n",
        "import os\n",
        "import copy\n",
        "import time \n",
        "import matplotlib.pyplot as plt\n",
        "import numpy as np\n",
        "\n",
        "import torch \n",
        "import torch.nn as nn\n",
        "import torch.optim as optim\n",
        "from torchvision import datasets, models, transforms\n",
        "from torch.utils.data import DataLoader\n",
        "from pathlib import Path\n",
        "from tqdm import tqdm\n",
        "\n",
        "\n",
        "\n"
      ],
      "execution_count": null,
      "outputs": []
    },
    {
      "cell_type": "code",
      "metadata": {
        "id": "mYq49fSdYm1y",
        "colab": {
          "base_uri": "https://localhost:8080/"
        },
        "outputId": "73f10214-cb5b-49b9-aa39-da53d6d2a32c"
      },
      "source": [
        "# Top level data directory. Here we assume the format of the directory conforms\n",
        "#   to the ImageFolder structure\n",
        "data_dir = \"/content/drive/MyDrive/598dataset/Cifar10/\"\n",
        "\n",
        "# Number of classes in the dataset\n",
        "num_classes = 10\n",
        "\n",
        "# Batch size for training (change depending on how much memory you have)\n",
        "batch_size = 32\n",
        "\n",
        "# Number of epochs to train for\n",
        "num_epochs = 2\n",
        "\n",
        "# Flag for feature extracting. When False, we finetune the whole model,\n",
        "#   when True we only update the reshaped layer params\n",
        "feature_extract = True\n",
        "\n",
        "input_size = 224\n",
        "\n",
        "\n",
        "print(\"CUDA Available: \",torch.cuda.is_available())\n",
        "device = torch.device(\"cuda:0\" if (torch.cuda.is_available()) else \"cpu\")\n",
        "\n",
        "# class_names = ['airplane', 'automobile', 'bird', 'cat', 'deer', 'dog', 'frog', 'horse', 'ship', 'truck']"
      ],
      "execution_count": null,
      "outputs": [
        {
          "output_type": "stream",
          "text": [
            "CUDA Available:  True\n"
          ],
          "name": "stdout"
        }
      ]
    },
    {
      "cell_type": "code",
      "metadata": {
        "colab": {
          "base_uri": "https://localhost:8080/"
        },
        "id": "wwCnODcjhJuJ",
        "outputId": "74ac3da3-8223-4567-d3e1-65595d1d0754"
      },
      "source": [
        "transform = {\n",
        "    'train': transforms.Compose([\n",
        "        transforms.RandomResizedCrop(input_size),\n",
        "        transforms.RandomHorizontalFlip(),\n",
        "        transforms.ToTensor(),\n",
        "        # transforms.Normalize([0.485, 0.456, 0.406], [0.229, 0.224, 0.225])\n",
        "    ]),\n",
        "    'val': transforms.Compose([\n",
        "        transforms.Resize(input_size),\n",
        "        transforms.CenterCrop(input_size),\n",
        "        transforms.ToTensor(),\n",
        "        # transforms.Normalize([0.485, 0.456, 0.406], [0.229, 0.224, 0.225])\n",
        "    ]),\n",
        "}\n",
        "kwargs = {'num_workers': 1, 'pin_memory': True}\n",
        "\n",
        "trainset = datasets.CIFAR10(root=data_dir, train=True,\n",
        "                                        download=True, transform=transform['train'])\n",
        "trainloader = DataLoader(trainset, batch_size=batch_size,\n",
        "                                          shuffle=True, **kwargs)\n",
        "\n",
        "testset = datasets.CIFAR10(root=data_dir, train=False,\n",
        "                                       download=True, transform=transform['val'])\n",
        "testloader = DataLoader(testset, batch_size=batch_size,\n",
        "                                         shuffle=False, **kwargs)\n",
        "dataloaders_dict = {'train': trainloader, 'val': testloader}\n",
        "\n",
        "class_names = trainset.classes"
      ],
      "execution_count": null,
      "outputs": [
        {
          "output_type": "stream",
          "text": [
            "Files already downloaded and verified\n",
            "Files already downloaded and verified\n"
          ],
          "name": "stdout"
        }
      ]
    },
    {
      "cell_type": "code",
      "metadata": {
        "id": "CdHoL10xZbL1"
      },
      "source": [
        "def train_model(model, dataloaders, criterion, optimizer, num_epochs=25, is_inception=False):\n",
        "    since = time.time()\n",
        "\n",
        "    val_acc_history = []\n",
        "\n",
        "    best_model_wts = copy.deepcopy(model.state_dict())\n",
        "    best_acc = 0.0\n",
        "\n",
        "    for epoch in range(num_epochs):\n",
        "        print('')\n",
        "        print('Epoch {}/{}'.format(epoch, num_epochs - 1))\n",
        "        print('-' * 10)\n",
        "\n",
        "        # Each epoch has a training and validation phase\n",
        "        for phase in ['train', 'val']:\n",
        "            with tqdm(dataloaders[phase], unit='batch') as tepoch:\n",
        "                if phase == 'train':\n",
        "                    model.train()  # Set model to training mode\n",
        "                else:\n",
        "                    model.eval()   # Set model to evaluate mode\n",
        "\n",
        "                running_loss = 0.0\n",
        "                running_corrects = 0\n",
        "\n",
        "                # Iterate over data.\n",
        "                for inputs, labels in tepoch:\n",
        "                    inputs = inputs.to(device)\n",
        "                    labels = labels.to(device)\n",
        "\n",
        "                    # zero the parameter gradients\n",
        "                    optimizer.zero_grad()\n",
        "\n",
        "                    # forward\n",
        "                    # track history if only in train\n",
        "                    with torch.set_grad_enabled(phase == 'train'):\n",
        "                        # Get model outputs and calculate loss\n",
        "                        # Special case for inception because in training it has an auxiliary output. In train\n",
        "                        #   mode we calculate the loss by summing the final output and the auxiliary output\n",
        "                        #   but in testing we only consider the final output.\n",
        "                        if is_inception and phase == 'train':\n",
        "                            # From https://discuss.pytorch.org/t/how-to-optimize-inception-model-with-auxiliary-classifiers/7958\n",
        "                            outputs, aux_outputs = model(inputs)\n",
        "                            loss1 = criterion(outputs, labels)\n",
        "                            loss2 = criterion(aux_outputs, labels)\n",
        "                            loss = loss1 + 0.4*loss2\n",
        "                        else:\n",
        "                            outputs = model(inputs)\n",
        "                            loss = criterion(outputs, labels)\n",
        "\n",
        "                        _, preds = torch.max(outputs, 1)\n",
        "\n",
        "                        # backward + optimize only if in training phase\n",
        "                        if phase == 'train':\n",
        "                            loss.backward()\n",
        "                            optimizer.step()\n",
        "\n",
        "                    # statistics\n",
        "                    running_loss += loss.item() * inputs.size(0)\n",
        "                    running_corrects += torch.sum(preds == labels.data)\n",
        "\n",
        "                epoch_loss = running_loss / len(dataloaders[phase].dataset)\n",
        "                epoch_acc = running_corrects.double() / len(dataloaders[phase].dataset)\n",
        "\n",
        "                print('{} Loss: {:.4f} Acc: {:.4f}'.format(phase, epoch_loss, epoch_acc))\n",
        "\n",
        "                # deep copy the model\n",
        "                if phase == 'val' and epoch_acc > best_acc:\n",
        "                    best_acc = epoch_acc\n",
        "                    best_model_wts = copy.deepcopy(model.state_dict())\n",
        "                if phase == 'val':\n",
        "                    val_acc_history.append(epoch_acc)\n",
        "\n",
        "        print()\n",
        "\n",
        "    time_elapsed = time.time() - since\n",
        "    print('Training complete in {:.0f}m {:.0f}s'.format(time_elapsed // 60, time_elapsed % 60))\n",
        "    print('Best val Acc: {:4f}'.format(best_acc))\n",
        "\n",
        "    # load best model weights\n",
        "    model.load_state_dict(best_model_wts)\n",
        "    return model, val_acc_history\n",
        "\n",
        "def set_parameter_requires_grad(model, feature_extracting):\n",
        "    if feature_extracting:\n",
        "        for param in model.parameters():\n",
        "            param.requires_grad = False\n",
        "\n",
        "# save image to folders\n",
        "def save_adv_images(inputs, clipped_advs, labels, model, dirpath=\"\"):\n",
        "\n",
        "  dir = dirpath\n",
        "  if len(dirpath) == \"\":\n",
        "    timestr = time.strftime(\"%Y%m%d-%H%M%S\")\n",
        "    dirpath = os.path.join(\"/content/drive/MyDrive/598dataset\", timestr)\n",
        "\n",
        "  \n",
        "  # try to create the dir\n",
        "  os.makedirs(dir, exist_ok=True)\n",
        "\n",
        "  # loop over images and save adv results\n",
        "  clean_preds = model(inputs).argmax(axis=1)\n",
        "  adv_preds = model(clipped_advs).argmax(axis=1)\n",
        "  norm = ((inputs - clipped_advs)**2).sum(axis=(1, 2, 3))**0.5\n",
        "  norm = norm.cpu().numpy().round(2)\n",
        "\n",
        "  # remember dir count\n",
        "  filenum_counter = {}\n",
        "\n",
        "  for i in range(inputs.shape[0]):\n",
        "\n",
        "    adv_img = clipped_advs[i].cpu().numpy()\n",
        "    adv_img = adv_img.swapaxes(0, 1)\n",
        "    adv_img = adv_img.swapaxes(1, 2)\n",
        "\n",
        "    # get labels and predictions\n",
        "    label = class_names[int(labels[i])]\n",
        "    clean_pred = class_names[int(clean_preds[i])]\n",
        "    adv_pred = class_names[int(adv_preds[i])]\n",
        "    img_dir = os.path.join(dir, str(label))\n",
        "\n",
        "    if img_dir not in filenum_counter:\n",
        "      os.makedirs(img_dir, exist_ok=True)\n",
        "      filenum_counter[img_dir] = len(os.listdir(img_dir)) + 1\n",
        "    else:\n",
        "      filenum_counter[img_dir] += 1\n",
        "\n",
        "    # image name\n",
        "    img_name = \"img{}_clean{}_adv{}_L2diff{}.png\".format(filenum_counter[img_dir], clean_pred, adv_pred, norm[i])\n",
        "    img_path = os.path.join(img_dir, img_name)\n",
        "\n",
        "    # save the image\n",
        "    plt.imsave(img_path, adv_img)\n",
        "\n",
        "def test_attack(attack, epsilons, fmodel, dataloaders, img_save_dir=\"\", save_train=False):\n",
        "  count = 0\n",
        "  running_acc = torch.zeros(len(epsilons)).to(device)\n",
        "\n",
        "  # Vlidation set\n",
        "  with tqdm(dataloaders['val'], unit='batch') as tepoch:\n",
        "    for inputs, labels in tepoch:\n",
        "      inputs = inputs.to(device)\n",
        "      labels = labels.to(device)\n",
        "      raw_advs, clipped_advs, success = attack(fmodel, inputs, labels, epsilons=epsilons)\n",
        "\n",
        "      # save images\n",
        "      if img_save_dir:\n",
        "        for idx in range(len(clipped_advs)):\n",
        "          dirname = \"Epsilon{}\".format(epsilons[idx]) + \"/val\"\n",
        "          save_adv_images(inputs, clipped_advs[idx], labels, fmodel, dirpath=os.path.join(img_save_dir, dirname))\n",
        "\n",
        "      running_acc += 1 - success.float().mean(axis=-1)\n",
        "      count += 1\n",
        "\n",
        "  # report accuracy on val dataset\n",
        "  running_acc /= count\n",
        "  for eps, acc in zip(epsilons, running_acc):\n",
        "      print(f\"  Linf norm ≤ {eps:<6}: {acc.item() * 100:4.1f} %\")\n",
        "  \n",
        "  # save train adv\n",
        "  if save_train:\n",
        "    with tqdm(dataloaders['train'], unit='batch') as tepoch:\n",
        "      for inputs, labels in tepoch:\n",
        "        inputs = inputs.to(device)\n",
        "        labels = labels.to(device)\n",
        "        raw_advs, clipped_advs, success = attack(fmodel, inputs, labels, epsilons=epsilons)\n",
        "\n",
        "        # save images\n",
        "        if img_save_dir:\n",
        "          for idx in range(len(clipped_advs)):\n",
        "            dirname = \"Epsilon{}\".format(epsilons[idx]) + \"/train\"\n",
        "            save_adv_images(inputs, clipped_advs[idx], labels, fmodel, dirpath=os.path.join(img_save_dir, dirname))"
      ],
      "execution_count": null,
      "outputs": []
    },
    {
      "cell_type": "code",
      "metadata": {
        "colab": {
          "base_uri": "https://localhost:8080/"
        },
        "id": "7aTMyL2qkkRs",
        "outputId": "9785248d-b737-441b-b837-6e270325fbe1"
      },
      "source": [
        "\n",
        "\n",
        "\n",
        "# Freeze model and replace last layer with CiFar10 num class output \n",
        "model = timm.create_model('vit_base_patch16_224', pretrained=True)\n",
        "set_parameter_requires_grad(model, feature_extract)\n",
        "model.head = nn.Linear(model.head.in_features, num_classes)\n",
        "model = model.to(device)\n",
        "model.eval()\n",
        "print(model)\n"
      ],
      "execution_count": null,
      "outputs": [
        {
          "output_type": "stream",
          "text": [
            "VisionTransformer(\n",
            "  (patch_embed): PatchEmbed(\n",
            "    (proj): Conv2d(3, 768, kernel_size=(16, 16), stride=(16, 16))\n",
            "  )\n",
            "  (pos_drop): Dropout(p=0.0, inplace=False)\n",
            "  (blocks): ModuleList(\n",
            "    (0): Block(\n",
            "      (norm1): LayerNorm((768,), eps=1e-06, elementwise_affine=True)\n",
            "      (attn): Attention(\n",
            "        (qkv): Linear(in_features=768, out_features=2304, bias=True)\n",
            "        (attn_drop): Dropout(p=0.0, inplace=False)\n",
            "        (proj): Linear(in_features=768, out_features=768, bias=True)\n",
            "        (proj_drop): Dropout(p=0.0, inplace=False)\n",
            "      )\n",
            "      (drop_path): Identity()\n",
            "      (norm2): LayerNorm((768,), eps=1e-06, elementwise_affine=True)\n",
            "      (mlp): Mlp(\n",
            "        (fc1): Linear(in_features=768, out_features=3072, bias=True)\n",
            "        (act): GELU()\n",
            "        (fc2): Linear(in_features=3072, out_features=768, bias=True)\n",
            "        (drop): Dropout(p=0.0, inplace=False)\n",
            "      )\n",
            "    )\n",
            "    (1): Block(\n",
            "      (norm1): LayerNorm((768,), eps=1e-06, elementwise_affine=True)\n",
            "      (attn): Attention(\n",
            "        (qkv): Linear(in_features=768, out_features=2304, bias=True)\n",
            "        (attn_drop): Dropout(p=0.0, inplace=False)\n",
            "        (proj): Linear(in_features=768, out_features=768, bias=True)\n",
            "        (proj_drop): Dropout(p=0.0, inplace=False)\n",
            "      )\n",
            "      (drop_path): Identity()\n",
            "      (norm2): LayerNorm((768,), eps=1e-06, elementwise_affine=True)\n",
            "      (mlp): Mlp(\n",
            "        (fc1): Linear(in_features=768, out_features=3072, bias=True)\n",
            "        (act): GELU()\n",
            "        (fc2): Linear(in_features=3072, out_features=768, bias=True)\n",
            "        (drop): Dropout(p=0.0, inplace=False)\n",
            "      )\n",
            "    )\n",
            "    (2): Block(\n",
            "      (norm1): LayerNorm((768,), eps=1e-06, elementwise_affine=True)\n",
            "      (attn): Attention(\n",
            "        (qkv): Linear(in_features=768, out_features=2304, bias=True)\n",
            "        (attn_drop): Dropout(p=0.0, inplace=False)\n",
            "        (proj): Linear(in_features=768, out_features=768, bias=True)\n",
            "        (proj_drop): Dropout(p=0.0, inplace=False)\n",
            "      )\n",
            "      (drop_path): Identity()\n",
            "      (norm2): LayerNorm((768,), eps=1e-06, elementwise_affine=True)\n",
            "      (mlp): Mlp(\n",
            "        (fc1): Linear(in_features=768, out_features=3072, bias=True)\n",
            "        (act): GELU()\n",
            "        (fc2): Linear(in_features=3072, out_features=768, bias=True)\n",
            "        (drop): Dropout(p=0.0, inplace=False)\n",
            "      )\n",
            "    )\n",
            "    (3): Block(\n",
            "      (norm1): LayerNorm((768,), eps=1e-06, elementwise_affine=True)\n",
            "      (attn): Attention(\n",
            "        (qkv): Linear(in_features=768, out_features=2304, bias=True)\n",
            "        (attn_drop): Dropout(p=0.0, inplace=False)\n",
            "        (proj): Linear(in_features=768, out_features=768, bias=True)\n",
            "        (proj_drop): Dropout(p=0.0, inplace=False)\n",
            "      )\n",
            "      (drop_path): Identity()\n",
            "      (norm2): LayerNorm((768,), eps=1e-06, elementwise_affine=True)\n",
            "      (mlp): Mlp(\n",
            "        (fc1): Linear(in_features=768, out_features=3072, bias=True)\n",
            "        (act): GELU()\n",
            "        (fc2): Linear(in_features=3072, out_features=768, bias=True)\n",
            "        (drop): Dropout(p=0.0, inplace=False)\n",
            "      )\n",
            "    )\n",
            "    (4): Block(\n",
            "      (norm1): LayerNorm((768,), eps=1e-06, elementwise_affine=True)\n",
            "      (attn): Attention(\n",
            "        (qkv): Linear(in_features=768, out_features=2304, bias=True)\n",
            "        (attn_drop): Dropout(p=0.0, inplace=False)\n",
            "        (proj): Linear(in_features=768, out_features=768, bias=True)\n",
            "        (proj_drop): Dropout(p=0.0, inplace=False)\n",
            "      )\n",
            "      (drop_path): Identity()\n",
            "      (norm2): LayerNorm((768,), eps=1e-06, elementwise_affine=True)\n",
            "      (mlp): Mlp(\n",
            "        (fc1): Linear(in_features=768, out_features=3072, bias=True)\n",
            "        (act): GELU()\n",
            "        (fc2): Linear(in_features=3072, out_features=768, bias=True)\n",
            "        (drop): Dropout(p=0.0, inplace=False)\n",
            "      )\n",
            "    )\n",
            "    (5): Block(\n",
            "      (norm1): LayerNorm((768,), eps=1e-06, elementwise_affine=True)\n",
            "      (attn): Attention(\n",
            "        (qkv): Linear(in_features=768, out_features=2304, bias=True)\n",
            "        (attn_drop): Dropout(p=0.0, inplace=False)\n",
            "        (proj): Linear(in_features=768, out_features=768, bias=True)\n",
            "        (proj_drop): Dropout(p=0.0, inplace=False)\n",
            "      )\n",
            "      (drop_path): Identity()\n",
            "      (norm2): LayerNorm((768,), eps=1e-06, elementwise_affine=True)\n",
            "      (mlp): Mlp(\n",
            "        (fc1): Linear(in_features=768, out_features=3072, bias=True)\n",
            "        (act): GELU()\n",
            "        (fc2): Linear(in_features=3072, out_features=768, bias=True)\n",
            "        (drop): Dropout(p=0.0, inplace=False)\n",
            "      )\n",
            "    )\n",
            "    (6): Block(\n",
            "      (norm1): LayerNorm((768,), eps=1e-06, elementwise_affine=True)\n",
            "      (attn): Attention(\n",
            "        (qkv): Linear(in_features=768, out_features=2304, bias=True)\n",
            "        (attn_drop): Dropout(p=0.0, inplace=False)\n",
            "        (proj): Linear(in_features=768, out_features=768, bias=True)\n",
            "        (proj_drop): Dropout(p=0.0, inplace=False)\n",
            "      )\n",
            "      (drop_path): Identity()\n",
            "      (norm2): LayerNorm((768,), eps=1e-06, elementwise_affine=True)\n",
            "      (mlp): Mlp(\n",
            "        (fc1): Linear(in_features=768, out_features=3072, bias=True)\n",
            "        (act): GELU()\n",
            "        (fc2): Linear(in_features=3072, out_features=768, bias=True)\n",
            "        (drop): Dropout(p=0.0, inplace=False)\n",
            "      )\n",
            "    )\n",
            "    (7): Block(\n",
            "      (norm1): LayerNorm((768,), eps=1e-06, elementwise_affine=True)\n",
            "      (attn): Attention(\n",
            "        (qkv): Linear(in_features=768, out_features=2304, bias=True)\n",
            "        (attn_drop): Dropout(p=0.0, inplace=False)\n",
            "        (proj): Linear(in_features=768, out_features=768, bias=True)\n",
            "        (proj_drop): Dropout(p=0.0, inplace=False)\n",
            "      )\n",
            "      (drop_path): Identity()\n",
            "      (norm2): LayerNorm((768,), eps=1e-06, elementwise_affine=True)\n",
            "      (mlp): Mlp(\n",
            "        (fc1): Linear(in_features=768, out_features=3072, bias=True)\n",
            "        (act): GELU()\n",
            "        (fc2): Linear(in_features=3072, out_features=768, bias=True)\n",
            "        (drop): Dropout(p=0.0, inplace=False)\n",
            "      )\n",
            "    )\n",
            "    (8): Block(\n",
            "      (norm1): LayerNorm((768,), eps=1e-06, elementwise_affine=True)\n",
            "      (attn): Attention(\n",
            "        (qkv): Linear(in_features=768, out_features=2304, bias=True)\n",
            "        (attn_drop): Dropout(p=0.0, inplace=False)\n",
            "        (proj): Linear(in_features=768, out_features=768, bias=True)\n",
            "        (proj_drop): Dropout(p=0.0, inplace=False)\n",
            "      )\n",
            "      (drop_path): Identity()\n",
            "      (norm2): LayerNorm((768,), eps=1e-06, elementwise_affine=True)\n",
            "      (mlp): Mlp(\n",
            "        (fc1): Linear(in_features=768, out_features=3072, bias=True)\n",
            "        (act): GELU()\n",
            "        (fc2): Linear(in_features=3072, out_features=768, bias=True)\n",
            "        (drop): Dropout(p=0.0, inplace=False)\n",
            "      )\n",
            "    )\n",
            "    (9): Block(\n",
            "      (norm1): LayerNorm((768,), eps=1e-06, elementwise_affine=True)\n",
            "      (attn): Attention(\n",
            "        (qkv): Linear(in_features=768, out_features=2304, bias=True)\n",
            "        (attn_drop): Dropout(p=0.0, inplace=False)\n",
            "        (proj): Linear(in_features=768, out_features=768, bias=True)\n",
            "        (proj_drop): Dropout(p=0.0, inplace=False)\n",
            "      )\n",
            "      (drop_path): Identity()\n",
            "      (norm2): LayerNorm((768,), eps=1e-06, elementwise_affine=True)\n",
            "      (mlp): Mlp(\n",
            "        (fc1): Linear(in_features=768, out_features=3072, bias=True)\n",
            "        (act): GELU()\n",
            "        (fc2): Linear(in_features=3072, out_features=768, bias=True)\n",
            "        (drop): Dropout(p=0.0, inplace=False)\n",
            "      )\n",
            "    )\n",
            "    (10): Block(\n",
            "      (norm1): LayerNorm((768,), eps=1e-06, elementwise_affine=True)\n",
            "      (attn): Attention(\n",
            "        (qkv): Linear(in_features=768, out_features=2304, bias=True)\n",
            "        (attn_drop): Dropout(p=0.0, inplace=False)\n",
            "        (proj): Linear(in_features=768, out_features=768, bias=True)\n",
            "        (proj_drop): Dropout(p=0.0, inplace=False)\n",
            "      )\n",
            "      (drop_path): Identity()\n",
            "      (norm2): LayerNorm((768,), eps=1e-06, elementwise_affine=True)\n",
            "      (mlp): Mlp(\n",
            "        (fc1): Linear(in_features=768, out_features=3072, bias=True)\n",
            "        (act): GELU()\n",
            "        (fc2): Linear(in_features=3072, out_features=768, bias=True)\n",
            "        (drop): Dropout(p=0.0, inplace=False)\n",
            "      )\n",
            "    )\n",
            "    (11): Block(\n",
            "      (norm1): LayerNorm((768,), eps=1e-06, elementwise_affine=True)\n",
            "      (attn): Attention(\n",
            "        (qkv): Linear(in_features=768, out_features=2304, bias=True)\n",
            "        (attn_drop): Dropout(p=0.0, inplace=False)\n",
            "        (proj): Linear(in_features=768, out_features=768, bias=True)\n",
            "        (proj_drop): Dropout(p=0.0, inplace=False)\n",
            "      )\n",
            "      (drop_path): Identity()\n",
            "      (norm2): LayerNorm((768,), eps=1e-06, elementwise_affine=True)\n",
            "      (mlp): Mlp(\n",
            "        (fc1): Linear(in_features=768, out_features=3072, bias=True)\n",
            "        (act): GELU()\n",
            "        (fc2): Linear(in_features=3072, out_features=768, bias=True)\n",
            "        (drop): Dropout(p=0.0, inplace=False)\n",
            "      )\n",
            "    )\n",
            "  )\n",
            "  (norm): LayerNorm((768,), eps=1e-06, elementwise_affine=True)\n",
            "  (pre_logits): Identity()\n",
            "  (head): Linear(in_features=768, out_features=10, bias=True)\n",
            ")\n"
          ],
          "name": "stdout"
        }
      ]
    },
    {
      "cell_type": "markdown",
      "metadata": {
        "id": "3clNIMQEgIS3"
      },
      "source": [
        "## ViT Attack\n"
      ]
    },
    {
      "cell_type": "code",
      "metadata": {
        "colab": {
          "base_uri": "https://localhost:8080/"
        },
        "id": "en5M8AfYg1O7",
        "outputId": "7ff452a2-6b47-4eb4-e850-4b797a7e464b"
      },
      "source": [
        "model.load_state_dict(torch.load('/content/drive/MyDrive/598dataset/ViTbase_16_224_cifar10.pth'))\n",
        "preprocessing = dict(mean = [0.485, 0.456, 0.406], std=[0.229, 0.224, 0.225], axis=-3)\n",
        "fmodel = PyTorchModel(model, bounds=(0, 1), preprocessing=preprocessing)\n",
        "\n",
        "count = 0\n",
        "running_acc = 0\n",
        "with tqdm(dataloaders_dict['val'], unit='batch') as tepoch:\n",
        "  for inputs, labels in tepoch:\n",
        "    inputs = inputs.to(device)\n",
        "    labels = labels.to(device)\n",
        "    running_acc += accuracy(fmodel, inputs, labels)\n",
        "    count += 1\n",
        "print(f\"clean accuracy:  {running_acc/count * 100:.1f} %\")"
      ],
      "execution_count": null,
      "outputs": [
        {
          "output_type": "stream",
          "text": [
            "100%|██████████| 313/313 [01:00<00:00,  5.17batch/s]"
          ],
          "name": "stderr"
        },
        {
          "output_type": "stream",
          "text": [
            "clean accuracy:  93.0 %\n"
          ],
          "name": "stdout"
        },
        {
          "output_type": "stream",
          "text": [
            "\n"
          ],
          "name": "stderr"
        }
      ]
    },
    {
      "cell_type": "code",
      "metadata": {
        "colab": {
          "base_uri": "https://localhost:8080/"
        },
        "id": "DfgPNVy6ieEF",
        "outputId": "14318119-24fe-4143-d34c-cad2f309f8e5"
      },
      "source": [
        "attack = fa.LinfFastGradientAttack()\n",
        "epsilons_list = [\n",
        "    0.001, \n",
        "    0.005,\n",
        "    0.01, \n",
        "    0.1\n",
        "]\n",
        "for epsilons in epsilons_list: \n",
        "  epsilons = [epsilons]\n",
        "  count = 0\n",
        "  running_acc = torch.zeros(len(epsilons)).to(device)\n",
        "  with tqdm(dataloaders_dict['val'], unit='batch') as tepoch:\n",
        "    for inputs, labels in tepoch:\n",
        "      inputs = inputs.to(device)\n",
        "      labels = labels.to(device)\n",
        "      # generate a list of adversarial for each input \n",
        "      raw_advs, clipped_advs, success = attack(fmodel, inputs, labels, epsilons=epsilons)\n",
        "      running_acc += 1 - success.float().mean(axis=-1)\n",
        "      count += 1\n",
        "  running_acc /= count\n",
        "  print(count)\n",
        "  for eps, acc in zip(epsilons, running_acc):\n",
        "      print(f\"FGSM {epsilons} attack accuracy:  {acc.item() * 100:4.1f} %\")\n",
        "\n",
        "\n",
        "# img_save_dir = '/content/drive/MyDrive/598dataset/Cifar10/ViT/FGSM'\n",
        "# test_attack(attack, epsilons, fmodel_cnn, dataloaders_dict, img_save_dir, save_train=True)"
      ],
      "execution_count": null,
      "outputs": [
        {
          "output_type": "stream",
          "text": [
            "100%|██████████| 313/313 [03:05<00:00,  1.69batch/s]\n"
          ],
          "name": "stderr"
        },
        {
          "output_type": "stream",
          "text": [
            "313\n"
          ],
          "name": "stdout"
        },
        {
          "output_type": "stream",
          "text": [
            "\r  0%|          | 0/313 [00:00<?, ?batch/s]"
          ],
          "name": "stderr"
        },
        {
          "output_type": "stream",
          "text": [
            "FGSM [0.001] attack accuracy:  61.0 %\n"
          ],
          "name": "stdout"
        },
        {
          "output_type": "stream",
          "text": [
            "100%|██████████| 313/313 [03:05<00:00,  1.69batch/s]\n"
          ],
          "name": "stderr"
        },
        {
          "output_type": "stream",
          "text": [
            "313\n"
          ],
          "name": "stdout"
        },
        {
          "output_type": "stream",
          "text": [
            "\r  0%|          | 0/313 [00:00<?, ?batch/s]"
          ],
          "name": "stderr"
        },
        {
          "output_type": "stream",
          "text": [
            "FGSM [0.005] attack accuracy:  30.9 %\n"
          ],
          "name": "stdout"
        },
        {
          "output_type": "stream",
          "text": [
            "100%|██████████| 313/313 [03:05<00:00,  1.69batch/s]\n"
          ],
          "name": "stderr"
        },
        {
          "output_type": "stream",
          "text": [
            "313\n"
          ],
          "name": "stdout"
        },
        {
          "output_type": "stream",
          "text": [
            "\r  0%|          | 0/313 [00:00<?, ?batch/s]"
          ],
          "name": "stderr"
        },
        {
          "output_type": "stream",
          "text": [
            "FGSM [0.01] attack accuracy:  25.4 %\n"
          ],
          "name": "stdout"
        },
        {
          "output_type": "stream",
          "text": [
            "100%|██████████| 313/313 [03:05<00:00,  1.69batch/s]\n"
          ],
          "name": "stderr"
        },
        {
          "output_type": "stream",
          "text": [
            "313\n",
            "FGSM [0.1] attack accuracy:  13.3 %\n"
          ],
          "name": "stdout"
        }
      ]
    },
    {
      "cell_type": "code",
      "metadata": {
        "colab": {
          "base_uri": "https://localhost:8080/"
        },
        "id": "Ust11JQK_Hpl",
        "outputId": "c6da7a40-b1e6-4483-8e29-8dd985702bd8"
      },
      "source": [
        "attack = fa.LinfPGD()\n",
        "epsilons = [\n",
        "    0.001, \n",
        "    0.005,\n",
        "    0.01, \n",
        "    0.1\n",
        "]\n",
        "count = 0\n",
        "running_acc = torch.zeros(len(epsilons)).to(device)\n",
        "with tqdm(dataloaders_dict['val'], unit='batch') as tepoch:\n",
        "  for inputs, labels in tepoch:\n",
        "    inputs = inputs.to(device)\n",
        "    labels = labels.to(device)\n",
        "    raw_advs, clipped_advs, success = attack(fmodel, inputs, labels, epsilons=epsilons)\n",
        "    running_acc += 1 - success.float().mean(axis=-1)\n",
        "    count += 1\n",
        "running_acc /= count\n",
        "for eps, acc in zip(epsilons, running_acc):\n",
        "    print(f\"  Linf norm ≤ {eps:<6}: {acc.item() * 100:4.1f} %\")"
      ],
      "execution_count": null,
      "outputs": [
        {
          "output_type": "stream",
          "text": [
            "100%|██████████| 313/313 [1:24:47<00:00, 16.26s/batch]\n"
          ],
          "name": "stderr"
        },
        {
          "output_type": "stream",
          "text": [
            "  Linf norm ≤ 0.001 : 47.9 %\n"
          ],
          "name": "stdout"
        }
      ]
    },
    {
      "cell_type": "code",
      "metadata": {
        "colab": {
          "base_uri": "https://localhost:8080/"
        },
        "id": "6vos0RJshtiY",
        "outputId": "3f7ebc72-6436-403a-c2ad-c06c95bdd905"
      },
      "source": [
        "attack = fa.L2PGD()\n",
        "epsilons = [\n",
        "    0.1,\n",
        "    0.3,\n",
        "    0.5, \n",
        "    2\n",
        "]\n",
        "count = 0\n",
        "running_acc = torch.zeros(len(epsilons)).to(device)\n",
        "with tqdm(dataloaders_dict['val'], unit='batch') as tepoch:\n",
        "  for inputs, labels in tepoch:\n",
        "    inputs = inputs.to(device)\n",
        "    labels = labels.to(device)\n",
        "    raw_advs, clipped_advs, success = attack(fmodel, inputs, labels, epsilons=epsilons)\n",
        "    running_acc += 1 - success.float().mean(axis=-1)\n",
        "    count += 1\n",
        "running_acc /= count\n",
        "for eps, acc in zip(epsilons, running_acc):\n",
        "    print(f\"  Linf norm ≤ {eps:<6}: {acc.item() * 100:4.1f} %\")"
      ],
      "execution_count": null,
      "outputs": [
        {
          "output_type": "stream",
          "text": [
            "100%|██████████| 313/313 [1:00:03<00:00, 11.51s/batch]"
          ],
          "name": "stderr"
        },
        {
          "output_type": "stream",
          "text": [
            "  Linf norm ≤ 0.3   : 35.9 %\n"
          ],
          "name": "stdout"
        },
        {
          "output_type": "stream",
          "text": [
            "\n"
          ],
          "name": "stderr"
        }
      ]
    },
    {
      "cell_type": "code",
      "metadata": {
        "colab": {
          "base_uri": "https://localhost:8080/"
        },
        "id": "JiIBQ-V0_Mhn",
        "outputId": "aa12ea6d-5c49-4401-a4fc-09ac0ff0bee3"
      },
      "source": [
        "attack = fa.L2CarliniWagnerAttack(steps=30, stepsize=0.0015)\n",
        "epsilons = [\n",
        "    0.1,\n",
        "    0.3\n",
        "]\n",
        "count = 0\n",
        "running_acc = torch.zeros(len(epsilons))\n",
        "with tqdm(dataloaders_dict['val'], unit='batch') as tepoch:\n",
        "  for inputs, labels in tepoch:\n",
        "    inputs = inputs.to(device)\n",
        "    labels = labels.to(device)\n",
        "    raw_advs, clipped_advs, success = attack(fmodel, inputs, labels, epsilons=epsilons)\n",
        "    running_acc += 1 - success.float().mean(axis=-1).to('cpu')\n",
        "    count += 1\n",
        "    \n",
        "    torch.cuda.empty_cache()\n",
        "\n",
        "running_acc /= count\n",
        "for eps, acc in zip(epsilons, running_acc):\n",
        "  print(f\"  L2 norm ≤ {eps:<6}: {acc.item() * 100:4.1f} %\")"
      ],
      "execution_count": null,
      "outputs": [
        {
          "output_type": "stream",
          "text": [
            "100%|██████████| 313/313 [7:16:06<00:00, 83.60s/batch]"
          ],
          "name": "stderr"
        },
        {
          "output_type": "stream",
          "text": [
            "  L2 norm ≤ 0.1   : 78.4 %\n",
            "  L2 norm ≤ 0.3   : 13.7 %\n"
          ],
          "name": "stdout"
        },
        {
          "output_type": "stream",
          "text": [
            "\n"
          ],
          "name": "stderr"
        }
      ]
    },
    {
      "cell_type": "code",
      "metadata": {
        "colab": {
          "base_uri": "https://localhost:8080/"
        },
        "id": "Ohx30AGV9EPF",
        "outputId": "0cec0339-02b2-44c4-ceab-328432183d6c"
      },
      "source": [
        "attack = fa.L2CarliniWagnerAttack(steps=30, stepsize=0.0015)\n",
        "epsilons = [\n",
        "    0.5,\n",
        "    2\n",
        "]\n",
        "count = 0\n",
        "running_acc = torch.zeros(len(epsilons))\n",
        "with tqdm(dataloaders_dict['val'], unit='batch') as tepoch:\n",
        "  for inputs, labels in tepoch:\n",
        "    inputs = inputs.to(device)\n",
        "    labels = labels.to(device)\n",
        "    raw_advs, clipped_advs, success = attack(fmodel, inputs, labels, epsilons=epsilons)\n",
        "    running_acc += 1 - success.float().mean(axis=-1).to('cpu')\n",
        "    count += 1\n",
        "    \n",
        "    torch.cuda.empty_cache()\n",
        "\n",
        "running_acc /= count\n",
        "for eps, acc in zip(epsilons, running_acc):\n",
        "  print(f\"  L2 norm ≤ {eps:<6}: {acc.item() * 100:4.1f} %\")"
      ],
      "execution_count": null,
      "outputs": [
        {
          "output_type": "stream",
          "text": [
            "100%|██████████| 313/313 [7:15:39<00:00, 83.51s/batch]"
          ],
          "name": "stderr"
        },
        {
          "output_type": "stream",
          "text": [
            "  L2 norm ≤ 0.5   :  2.6 %\n",
            "  L2 norm ≤ 2     :  0.0 %\n"
          ],
          "name": "stdout"
        },
        {
          "output_type": "stream",
          "text": [
            "\n"
          ],
          "name": "stderr"
        }
      ]
    },
    {
      "cell_type": "markdown",
      "metadata": {
        "id": "PyIUuEoVxO1G"
      },
      "source": [
        "##FineTuning ResNet50\n",
        "\n"
      ]
    },
    {
      "cell_type": "code",
      "metadata": {
        "id": "wa-lh3lvnVcB",
        "colab": {
          "base_uri": "https://localhost:8080/",
          "height": 83,
          "referenced_widgets": [
            "9f0976720aa542a6a8000ea19f84f187",
            "538d601f02dc4cb59d32bd57520064e2",
            "d522ef92136f4a05814426bc7e9837a4",
            "3e20c0f04ffb4cb48fcf87486a4ae365",
            "46d44b9abde64a02b52eb0bc5f306442",
            "305e1066a0424a168675967f1f55830e",
            "452fe99fb4f447078b27ce452377f68c",
            "4fae14e57bb54361aeddd4adea252c57"
          ]
        },
        "outputId": "3132b647-0b6b-4255-b20e-928b975e3636"
      },
      "source": [
        "model_cnn = models.resnet50(pretrained=True, progress=True)"
      ],
      "execution_count": null,
      "outputs": [
        {
          "output_type": "stream",
          "text": [
            "Downloading: \"https://download.pytorch.org/models/resnet50-19c8e357.pth\" to /root/.cache/torch/hub/checkpoints/resnet50-19c8e357.pth\n"
          ],
          "name": "stderr"
        },
        {
          "output_type": "display_data",
          "data": {
            "application/vnd.jupyter.widget-view+json": {
              "model_id": "9f0976720aa542a6a8000ea19f84f187",
              "version_minor": 0,
              "version_major": 2
            },
            "text/plain": [
              "HBox(children=(FloatProgress(value=0.0, max=102502400.0), HTML(value='')))"
            ]
          },
          "metadata": {
            "tags": []
          }
        },
        {
          "output_type": "stream",
          "text": [
            "\n"
          ],
          "name": "stdout"
        }
      ]
    },
    {
      "cell_type": "code",
      "metadata": {
        "id": "L4rea-3Owchq"
      },
      "source": [
        "# Gather the parameters to be optimized/updated in this run. If we are\n",
        "#  finetuning we will be updating all parameters. However, if we are\n",
        "#  doing feature extract method, we will only update the parameters\n",
        "#  that we have just initialized, i.e. the parameters with requires_grad\n",
        "#  is True.\n",
        "\n",
        "# set_parameter_requires_grad(model_cnn, feature_extract)\n",
        "\n",
        "model_cnn.fc = nn.Linear(model_cnn.fc.in_features, num_classes)\n",
        "model_cnn = model_cnn.to(device)\n",
        "params_to_update = model_cnn.parameters()\n",
        "\n",
        "\n",
        "print(\"Params to learn:\")\n",
        "\n",
        "for name,param in model_cnn.named_parameters():\n",
        "    if param.requires_grad == True:\n",
        "        print(\"\\t\",name)\n",
        "\n",
        "# # Observe that all parameters are being optimized\n",
        "optimizer_ft = optim.SGD(model_cnn.parameters(), lr=0.001, momentum=0.9)\n",
        "# # Setup the loss fxn\n",
        "criterion = nn.CrossEntropyLoss()\n",
        "\n",
        "# Train and evaluate\n",
        "model_cnn, hist = train_model(model_cnn, dataloaders_dict, criterion, optimizer_ft, num_epochs=2, is_inception=False)\n",
        "torch.save(model_cnn.state_dict(), '/content/drive/MyDrive/598dataset/ResNet50_cifar10.pth')\n",
        "\n"
      ],
      "execution_count": null,
      "outputs": []
    },
    {
      "cell_type": "markdown",
      "metadata": {
        "id": "hKVzicnxDHNi"
      },
      "source": [
        "##ResNet50 Attack"
      ]
    },
    {
      "cell_type": "code",
      "metadata": {
        "colab": {
          "base_uri": "https://localhost:8080/"
        },
        "id": "lLYMflpEDFHG",
        "outputId": "9d8b082d-24ca-40a2-dea7-4f62a829037f"
      },
      "source": [
        "model_cnn = models.resnet50(pretrained=True, progress=True)\n",
        "model_cnn.fc = nn.Linear(model_cnn.fc.in_features, num_classes)\n",
        "model_cnn = model_cnn.to(device)\n",
        "model_cnn.load_state_dict(torch.load('/content/drive/MyDrive/598dataset/ResNet50_cifar10.pth'))\n",
        "model_cnn.eval()"
      ],
      "execution_count": null,
      "outputs": [
        {
          "output_type": "execute_result",
          "data": {
            "text/plain": [
              "ResNet(\n",
              "  (conv1): Conv2d(3, 64, kernel_size=(7, 7), stride=(2, 2), padding=(3, 3), bias=False)\n",
              "  (bn1): BatchNorm2d(64, eps=1e-05, momentum=0.1, affine=True, track_running_stats=True)\n",
              "  (relu): ReLU(inplace=True)\n",
              "  (maxpool): MaxPool2d(kernel_size=3, stride=2, padding=1, dilation=1, ceil_mode=False)\n",
              "  (layer1): Sequential(\n",
              "    (0): Bottleneck(\n",
              "      (conv1): Conv2d(64, 64, kernel_size=(1, 1), stride=(1, 1), bias=False)\n",
              "      (bn1): BatchNorm2d(64, eps=1e-05, momentum=0.1, affine=True, track_running_stats=True)\n",
              "      (conv2): Conv2d(64, 64, kernel_size=(3, 3), stride=(1, 1), padding=(1, 1), bias=False)\n",
              "      (bn2): BatchNorm2d(64, eps=1e-05, momentum=0.1, affine=True, track_running_stats=True)\n",
              "      (conv3): Conv2d(64, 256, kernel_size=(1, 1), stride=(1, 1), bias=False)\n",
              "      (bn3): BatchNorm2d(256, eps=1e-05, momentum=0.1, affine=True, track_running_stats=True)\n",
              "      (relu): ReLU(inplace=True)\n",
              "      (downsample): Sequential(\n",
              "        (0): Conv2d(64, 256, kernel_size=(1, 1), stride=(1, 1), bias=False)\n",
              "        (1): BatchNorm2d(256, eps=1e-05, momentum=0.1, affine=True, track_running_stats=True)\n",
              "      )\n",
              "    )\n",
              "    (1): Bottleneck(\n",
              "      (conv1): Conv2d(256, 64, kernel_size=(1, 1), stride=(1, 1), bias=False)\n",
              "      (bn1): BatchNorm2d(64, eps=1e-05, momentum=0.1, affine=True, track_running_stats=True)\n",
              "      (conv2): Conv2d(64, 64, kernel_size=(3, 3), stride=(1, 1), padding=(1, 1), bias=False)\n",
              "      (bn2): BatchNorm2d(64, eps=1e-05, momentum=0.1, affine=True, track_running_stats=True)\n",
              "      (conv3): Conv2d(64, 256, kernel_size=(1, 1), stride=(1, 1), bias=False)\n",
              "      (bn3): BatchNorm2d(256, eps=1e-05, momentum=0.1, affine=True, track_running_stats=True)\n",
              "      (relu): ReLU(inplace=True)\n",
              "    )\n",
              "    (2): Bottleneck(\n",
              "      (conv1): Conv2d(256, 64, kernel_size=(1, 1), stride=(1, 1), bias=False)\n",
              "      (bn1): BatchNorm2d(64, eps=1e-05, momentum=0.1, affine=True, track_running_stats=True)\n",
              "      (conv2): Conv2d(64, 64, kernel_size=(3, 3), stride=(1, 1), padding=(1, 1), bias=False)\n",
              "      (bn2): BatchNorm2d(64, eps=1e-05, momentum=0.1, affine=True, track_running_stats=True)\n",
              "      (conv3): Conv2d(64, 256, kernel_size=(1, 1), stride=(1, 1), bias=False)\n",
              "      (bn3): BatchNorm2d(256, eps=1e-05, momentum=0.1, affine=True, track_running_stats=True)\n",
              "      (relu): ReLU(inplace=True)\n",
              "    )\n",
              "  )\n",
              "  (layer2): Sequential(\n",
              "    (0): Bottleneck(\n",
              "      (conv1): Conv2d(256, 128, kernel_size=(1, 1), stride=(1, 1), bias=False)\n",
              "      (bn1): BatchNorm2d(128, eps=1e-05, momentum=0.1, affine=True, track_running_stats=True)\n",
              "      (conv2): Conv2d(128, 128, kernel_size=(3, 3), stride=(2, 2), padding=(1, 1), bias=False)\n",
              "      (bn2): BatchNorm2d(128, eps=1e-05, momentum=0.1, affine=True, track_running_stats=True)\n",
              "      (conv3): Conv2d(128, 512, kernel_size=(1, 1), stride=(1, 1), bias=False)\n",
              "      (bn3): BatchNorm2d(512, eps=1e-05, momentum=0.1, affine=True, track_running_stats=True)\n",
              "      (relu): ReLU(inplace=True)\n",
              "      (downsample): Sequential(\n",
              "        (0): Conv2d(256, 512, kernel_size=(1, 1), stride=(2, 2), bias=False)\n",
              "        (1): BatchNorm2d(512, eps=1e-05, momentum=0.1, affine=True, track_running_stats=True)\n",
              "      )\n",
              "    )\n",
              "    (1): Bottleneck(\n",
              "      (conv1): Conv2d(512, 128, kernel_size=(1, 1), stride=(1, 1), bias=False)\n",
              "      (bn1): BatchNorm2d(128, eps=1e-05, momentum=0.1, affine=True, track_running_stats=True)\n",
              "      (conv2): Conv2d(128, 128, kernel_size=(3, 3), stride=(1, 1), padding=(1, 1), bias=False)\n",
              "      (bn2): BatchNorm2d(128, eps=1e-05, momentum=0.1, affine=True, track_running_stats=True)\n",
              "      (conv3): Conv2d(128, 512, kernel_size=(1, 1), stride=(1, 1), bias=False)\n",
              "      (bn3): BatchNorm2d(512, eps=1e-05, momentum=0.1, affine=True, track_running_stats=True)\n",
              "      (relu): ReLU(inplace=True)\n",
              "    )\n",
              "    (2): Bottleneck(\n",
              "      (conv1): Conv2d(512, 128, kernel_size=(1, 1), stride=(1, 1), bias=False)\n",
              "      (bn1): BatchNorm2d(128, eps=1e-05, momentum=0.1, affine=True, track_running_stats=True)\n",
              "      (conv2): Conv2d(128, 128, kernel_size=(3, 3), stride=(1, 1), padding=(1, 1), bias=False)\n",
              "      (bn2): BatchNorm2d(128, eps=1e-05, momentum=0.1, affine=True, track_running_stats=True)\n",
              "      (conv3): Conv2d(128, 512, kernel_size=(1, 1), stride=(1, 1), bias=False)\n",
              "      (bn3): BatchNorm2d(512, eps=1e-05, momentum=0.1, affine=True, track_running_stats=True)\n",
              "      (relu): ReLU(inplace=True)\n",
              "    )\n",
              "    (3): Bottleneck(\n",
              "      (conv1): Conv2d(512, 128, kernel_size=(1, 1), stride=(1, 1), bias=False)\n",
              "      (bn1): BatchNorm2d(128, eps=1e-05, momentum=0.1, affine=True, track_running_stats=True)\n",
              "      (conv2): Conv2d(128, 128, kernel_size=(3, 3), stride=(1, 1), padding=(1, 1), bias=False)\n",
              "      (bn2): BatchNorm2d(128, eps=1e-05, momentum=0.1, affine=True, track_running_stats=True)\n",
              "      (conv3): Conv2d(128, 512, kernel_size=(1, 1), stride=(1, 1), bias=False)\n",
              "      (bn3): BatchNorm2d(512, eps=1e-05, momentum=0.1, affine=True, track_running_stats=True)\n",
              "      (relu): ReLU(inplace=True)\n",
              "    )\n",
              "  )\n",
              "  (layer3): Sequential(\n",
              "    (0): Bottleneck(\n",
              "      (conv1): Conv2d(512, 256, kernel_size=(1, 1), stride=(1, 1), bias=False)\n",
              "      (bn1): BatchNorm2d(256, eps=1e-05, momentum=0.1, affine=True, track_running_stats=True)\n",
              "      (conv2): Conv2d(256, 256, kernel_size=(3, 3), stride=(2, 2), padding=(1, 1), bias=False)\n",
              "      (bn2): BatchNorm2d(256, eps=1e-05, momentum=0.1, affine=True, track_running_stats=True)\n",
              "      (conv3): Conv2d(256, 1024, kernel_size=(1, 1), stride=(1, 1), bias=False)\n",
              "      (bn3): BatchNorm2d(1024, eps=1e-05, momentum=0.1, affine=True, track_running_stats=True)\n",
              "      (relu): ReLU(inplace=True)\n",
              "      (downsample): Sequential(\n",
              "        (0): Conv2d(512, 1024, kernel_size=(1, 1), stride=(2, 2), bias=False)\n",
              "        (1): BatchNorm2d(1024, eps=1e-05, momentum=0.1, affine=True, track_running_stats=True)\n",
              "      )\n",
              "    )\n",
              "    (1): Bottleneck(\n",
              "      (conv1): Conv2d(1024, 256, kernel_size=(1, 1), stride=(1, 1), bias=False)\n",
              "      (bn1): BatchNorm2d(256, eps=1e-05, momentum=0.1, affine=True, track_running_stats=True)\n",
              "      (conv2): Conv2d(256, 256, kernel_size=(3, 3), stride=(1, 1), padding=(1, 1), bias=False)\n",
              "      (bn2): BatchNorm2d(256, eps=1e-05, momentum=0.1, affine=True, track_running_stats=True)\n",
              "      (conv3): Conv2d(256, 1024, kernel_size=(1, 1), stride=(1, 1), bias=False)\n",
              "      (bn3): BatchNorm2d(1024, eps=1e-05, momentum=0.1, affine=True, track_running_stats=True)\n",
              "      (relu): ReLU(inplace=True)\n",
              "    )\n",
              "    (2): Bottleneck(\n",
              "      (conv1): Conv2d(1024, 256, kernel_size=(1, 1), stride=(1, 1), bias=False)\n",
              "      (bn1): BatchNorm2d(256, eps=1e-05, momentum=0.1, affine=True, track_running_stats=True)\n",
              "      (conv2): Conv2d(256, 256, kernel_size=(3, 3), stride=(1, 1), padding=(1, 1), bias=False)\n",
              "      (bn2): BatchNorm2d(256, eps=1e-05, momentum=0.1, affine=True, track_running_stats=True)\n",
              "      (conv3): Conv2d(256, 1024, kernel_size=(1, 1), stride=(1, 1), bias=False)\n",
              "      (bn3): BatchNorm2d(1024, eps=1e-05, momentum=0.1, affine=True, track_running_stats=True)\n",
              "      (relu): ReLU(inplace=True)\n",
              "    )\n",
              "    (3): Bottleneck(\n",
              "      (conv1): Conv2d(1024, 256, kernel_size=(1, 1), stride=(1, 1), bias=False)\n",
              "      (bn1): BatchNorm2d(256, eps=1e-05, momentum=0.1, affine=True, track_running_stats=True)\n",
              "      (conv2): Conv2d(256, 256, kernel_size=(3, 3), stride=(1, 1), padding=(1, 1), bias=False)\n",
              "      (bn2): BatchNorm2d(256, eps=1e-05, momentum=0.1, affine=True, track_running_stats=True)\n",
              "      (conv3): Conv2d(256, 1024, kernel_size=(1, 1), stride=(1, 1), bias=False)\n",
              "      (bn3): BatchNorm2d(1024, eps=1e-05, momentum=0.1, affine=True, track_running_stats=True)\n",
              "      (relu): ReLU(inplace=True)\n",
              "    )\n",
              "    (4): Bottleneck(\n",
              "      (conv1): Conv2d(1024, 256, kernel_size=(1, 1), stride=(1, 1), bias=False)\n",
              "      (bn1): BatchNorm2d(256, eps=1e-05, momentum=0.1, affine=True, track_running_stats=True)\n",
              "      (conv2): Conv2d(256, 256, kernel_size=(3, 3), stride=(1, 1), padding=(1, 1), bias=False)\n",
              "      (bn2): BatchNorm2d(256, eps=1e-05, momentum=0.1, affine=True, track_running_stats=True)\n",
              "      (conv3): Conv2d(256, 1024, kernel_size=(1, 1), stride=(1, 1), bias=False)\n",
              "      (bn3): BatchNorm2d(1024, eps=1e-05, momentum=0.1, affine=True, track_running_stats=True)\n",
              "      (relu): ReLU(inplace=True)\n",
              "    )\n",
              "    (5): Bottleneck(\n",
              "      (conv1): Conv2d(1024, 256, kernel_size=(1, 1), stride=(1, 1), bias=False)\n",
              "      (bn1): BatchNorm2d(256, eps=1e-05, momentum=0.1, affine=True, track_running_stats=True)\n",
              "      (conv2): Conv2d(256, 256, kernel_size=(3, 3), stride=(1, 1), padding=(1, 1), bias=False)\n",
              "      (bn2): BatchNorm2d(256, eps=1e-05, momentum=0.1, affine=True, track_running_stats=True)\n",
              "      (conv3): Conv2d(256, 1024, kernel_size=(1, 1), stride=(1, 1), bias=False)\n",
              "      (bn3): BatchNorm2d(1024, eps=1e-05, momentum=0.1, affine=True, track_running_stats=True)\n",
              "      (relu): ReLU(inplace=True)\n",
              "    )\n",
              "  )\n",
              "  (layer4): Sequential(\n",
              "    (0): Bottleneck(\n",
              "      (conv1): Conv2d(1024, 512, kernel_size=(1, 1), stride=(1, 1), bias=False)\n",
              "      (bn1): BatchNorm2d(512, eps=1e-05, momentum=0.1, affine=True, track_running_stats=True)\n",
              "      (conv2): Conv2d(512, 512, kernel_size=(3, 3), stride=(2, 2), padding=(1, 1), bias=False)\n",
              "      (bn2): BatchNorm2d(512, eps=1e-05, momentum=0.1, affine=True, track_running_stats=True)\n",
              "      (conv3): Conv2d(512, 2048, kernel_size=(1, 1), stride=(1, 1), bias=False)\n",
              "      (bn3): BatchNorm2d(2048, eps=1e-05, momentum=0.1, affine=True, track_running_stats=True)\n",
              "      (relu): ReLU(inplace=True)\n",
              "      (downsample): Sequential(\n",
              "        (0): Conv2d(1024, 2048, kernel_size=(1, 1), stride=(2, 2), bias=False)\n",
              "        (1): BatchNorm2d(2048, eps=1e-05, momentum=0.1, affine=True, track_running_stats=True)\n",
              "      )\n",
              "    )\n",
              "    (1): Bottleneck(\n",
              "      (conv1): Conv2d(2048, 512, kernel_size=(1, 1), stride=(1, 1), bias=False)\n",
              "      (bn1): BatchNorm2d(512, eps=1e-05, momentum=0.1, affine=True, track_running_stats=True)\n",
              "      (conv2): Conv2d(512, 512, kernel_size=(3, 3), stride=(1, 1), padding=(1, 1), bias=False)\n",
              "      (bn2): BatchNorm2d(512, eps=1e-05, momentum=0.1, affine=True, track_running_stats=True)\n",
              "      (conv3): Conv2d(512, 2048, kernel_size=(1, 1), stride=(1, 1), bias=False)\n",
              "      (bn3): BatchNorm2d(2048, eps=1e-05, momentum=0.1, affine=True, track_running_stats=True)\n",
              "      (relu): ReLU(inplace=True)\n",
              "    )\n",
              "    (2): Bottleneck(\n",
              "      (conv1): Conv2d(2048, 512, kernel_size=(1, 1), stride=(1, 1), bias=False)\n",
              "      (bn1): BatchNorm2d(512, eps=1e-05, momentum=0.1, affine=True, track_running_stats=True)\n",
              "      (conv2): Conv2d(512, 512, kernel_size=(3, 3), stride=(1, 1), padding=(1, 1), bias=False)\n",
              "      (bn2): BatchNorm2d(512, eps=1e-05, momentum=0.1, affine=True, track_running_stats=True)\n",
              "      (conv3): Conv2d(512, 2048, kernel_size=(1, 1), stride=(1, 1), bias=False)\n",
              "      (bn3): BatchNorm2d(2048, eps=1e-05, momentum=0.1, affine=True, track_running_stats=True)\n",
              "      (relu): ReLU(inplace=True)\n",
              "    )\n",
              "  )\n",
              "  (avgpool): AdaptiveAvgPool2d(output_size=(1, 1))\n",
              "  (fc): Linear(in_features=2048, out_features=10, bias=True)\n",
              ")"
            ]
          },
          "metadata": {
            "tags": []
          },
          "execution_count": 10
        }
      ]
    },
    {
      "cell_type": "code",
      "metadata": {
        "colab": {
          "base_uri": "https://localhost:8080/"
        },
        "id": "ftwNp4J2q-Nu",
        "outputId": "10b39f1f-cbdc-4103-aecb-ae7f36e325ed"
      },
      "source": [
        "preprocessing = dict(mean = [0.485, 0.456, 0.406], std=[0.229, 0.224, 0.225], axis=-3)\n",
        "fmodel_cnn = PyTorchModel(model_cnn, bounds=(0, 1), preprocessing=preprocessing)\n",
        "\n",
        "count = 0\n",
        "running_acc = 0\n",
        "with tqdm(dataloaders_dict['val'], unit='batch') as tepoch:\n",
        "  for inputs, labels in tepoch:\n",
        "    inputs = inputs.to(device)\n",
        "    labels = labels.to(device)\n",
        "    running_acc += accuracy(fmodel_cnn, inputs, labels)\n",
        "    count += 1\n",
        "\n",
        "print(f\"clean accuracy:  {running_acc/count * 100:.1f} %\")"
      ],
      "execution_count": null,
      "outputs": [
        {
          "output_type": "stream",
          "text": [
            "100%|██████████| 313/313 [00:17<00:00, 17.66batch/s]"
          ],
          "name": "stderr"
        },
        {
          "output_type": "stream",
          "text": [
            "clean accuracy:  94.4 %\n"
          ],
          "name": "stdout"
        },
        {
          "output_type": "stream",
          "text": [
            "\n"
          ],
          "name": "stderr"
        }
      ]
    },
    {
      "cell_type": "code",
      "metadata": {
        "colab": {
          "base_uri": "https://localhost:8080/"
        },
        "id": "tLPHQoOgrbuN",
        "outputId": "adddb2d6-23a4-42ea-993b-3a1176d937fe"
      },
      "source": [
        "# !rm -rf /content/drive/MyDrive/598dataset/Cifar10/ResNet50/FGSM/\n",
        "attack = fa.LinfFastGradientAttack()\n",
        "epsilons = [\n",
        "    0.001, \n",
        "    0.005,\n",
        "    0.01, \n",
        "    0.1\n",
        "]\n",
        "\n",
        "count = 0\n",
        "running_acc = torch.zeros(len(epsilons)).to(device)\n",
        "with tqdm(dataloaders_dict['val'], unit='batch') as tepoch:\n",
        "  for inputs, labels in tepoch:\n",
        "    inputs = inputs.to(device)\n",
        "    labels = labels.to(device)\n",
        "    raw_advs, clipped_advs, success = attack(fmodel_cnn, inputs, labels, epsilons=epsilons)\n",
        "    running_acc += 1 - success.float().mean(axis=-1)\n",
        "    count += 1\n",
        "running_acc /= count\n",
        "for eps, acc in zip(epsilons, running_acc):\n",
        "    print(f\"FGSM {epsilons} attack accuracy:  {acc.item() * 100:4.1f} %\")\n",
        "\n",
        "# img_save_dir = '/content/drive/MyDrive/598dataset/Cifar10/ResNet50/FGSM'\n",
        "# test_attack(attack, epsilons, fmodel_cnn, dataloaders_dict, img_save_dir, save_train=True)"
      ],
      "execution_count": null,
      "outputs": [
        {
          "output_type": "stream",
          "text": [
            "100%|██████████| 313/313 [04:17<00:00,  1.21batch/s]"
          ],
          "name": "stderr"
        },
        {
          "output_type": "stream",
          "text": [
            "FGSM [0.001, 0.005, 0.01, 0.1] attack accuracy:  63.5 %\n",
            "FGSM [0.001, 0.005, 0.01, 0.1] attack accuracy:  21.4 %\n",
            "FGSM [0.001, 0.005, 0.01, 0.1] attack accuracy:  15.0 %\n",
            "FGSM [0.001, 0.005, 0.01, 0.1] attack accuracy:  19.8 %\n"
          ],
          "name": "stdout"
        },
        {
          "output_type": "stream",
          "text": [
            "\n"
          ],
          "name": "stderr"
        }
      ]
    },
    {
      "cell_type": "code",
      "metadata": {
        "colab": {
          "base_uri": "https://localhost:8080/"
        },
        "id": "0B1G6q8qp3rG",
        "outputId": "356e00e7-fd42-4f46-9030-6f7e70b3e0b9"
      },
      "source": [
        "attack = fa.LinfPGD()\n",
        "epsilons = [\n",
        "    0.001, \n",
        "    0.005,\n",
        "    0.01, \n",
        "    0.1\n",
        "]\n",
        "count = 0\n",
        "running_acc = torch.zeros(len(epsilons)).to(device)\n",
        "with tqdm(dataloaders_dict['val'], unit='batch') as tepoch:\n",
        "  for inputs, labels in tepoch:\n",
        "    inputs = inputs.to(device)\n",
        "    labels = labels.to(device)\n",
        "    raw_advs, clipped_advs, success = attack(fmodel_cnn, inputs, labels, epsilons=epsilons)\n",
        "    running_acc += 1 - success.float().mean(axis=-1)\n",
        "    count += 1\n",
        "running_acc /= count\n",
        "for eps, acc in zip(epsilons, running_acc):\n",
        "    print(f\"  Linf norm ≤ {eps:<6}: {acc.item() * 100:4.1f} %\")"
      ],
      "execution_count": null,
      "outputs": [
        {
          "output_type": "stream",
          "text": [
            "100%|██████████| 313/313 [2:12:12<00:00, 25.34s/batch]"
          ],
          "name": "stderr"
        },
        {
          "output_type": "stream",
          "text": [
            "  Linf norm ≤ 0.001 : 52.9 %\n",
            "  Linf norm ≤ 0.005 :  0.2 %\n",
            "  Linf norm ≤ 0.01  :  0.0 %\n",
            "  Linf norm ≤ 0.1   :  0.0 %\n"
          ],
          "name": "stdout"
        },
        {
          "output_type": "stream",
          "text": [
            "\n"
          ],
          "name": "stderr"
        }
      ]
    },
    {
      "cell_type": "code",
      "metadata": {
        "colab": {
          "base_uri": "https://localhost:8080/"
        },
        "id": "sgex2-sVcoyU",
        "outputId": "a4d89211-5056-4280-926e-d2f9f38d60b1"
      },
      "source": [
        "attack = fa.L2PGD()\n",
        "epsilons = [\n",
        "    0.1, \n",
        "    0.3,\n",
        "    0.5,\n",
        "    2\n",
        "]\n",
        "count = 0\n",
        "running_acc = torch.zeros(len(epsilons)).to(device)\n",
        "with tqdm(dataloaders_dict['val'], unit='batch') as tepoch:\n",
        "  for inputs, labels in tepoch:\n",
        "    inputs = inputs.to(device)\n",
        "    labels = labels.to(device)\n",
        "    raw_advs, clipped_advs, success = attack(fmodel_cnn, inputs, labels, epsilons=epsilons)\n",
        "    running_acc += 1 - success.float().mean(axis=-1)\n",
        "    count += 1\n",
        "running_acc /= count\n",
        "for eps, acc in zip(epsilons, running_acc):\n",
        "    print(f\"  L2 norm ≤ {eps:<6}: {acc.item() * 100:4.1f} %\")\n",
        "\n",
        "# img_save_dir = '/content/drive/MyDrive/598dataset/Cifar10/ResNet50/L2PGD'\n",
        "# test_attack(attack, epsilons, fmodel_cnn, dataloaders_dict, img_save_dir, save_train=True)"
      ],
      "execution_count": null,
      "outputs": [
        {
          "output_type": "stream",
          "text": [
            "100%|██████████| 313/313 [2:45:23<00:00, 31.70s/batch]"
          ],
          "name": "stderr"
        },
        {
          "output_type": "stream",
          "text": [
            "  L2 norm ≤ 0.1   : 82.1 %\n",
            "  L2 norm ≤ 0.3   : 41.7 %\n",
            "  L2 norm ≤ 0.5   : 14.9 %\n",
            "  L2 norm ≤ 2     :  0.0 %\n"
          ],
          "name": "stdout"
        },
        {
          "output_type": "stream",
          "text": [
            "\n"
          ],
          "name": "stderr"
        }
      ]
    },
    {
      "cell_type": "code",
      "metadata": {
        "colab": {
          "base_uri": "https://localhost:8080/"
        },
        "id": "_mYlzEWRqgDF",
        "outputId": "494f9232-c852-4c19-f621-44c8ab0cf4da"
      },
      "source": [
        "attack = fa.L2CarliniWagnerAttack(steps=30, stepsize=0.0015)\n",
        "epsilons = [\n",
        "    0.1, \n",
        "    0.3,\n",
        "    0.5,\n",
        "    2\n",
        "]\n",
        "count = 0\n",
        "running_acc = torch.zeros(len(epsilons))\n",
        "with tqdm(dataloaders_dict['val'], unit='batch') as tepoch:\n",
        "  for inputs, labels in tepoch:\n",
        "    inputs = inputs.to(device)\n",
        "    labels = labels.to(device)\n",
        "    raw_advs, clipped_advs, success = attack(fmodel_cnn, inputs, labels, epsilons=epsilons)\n",
        "    running_acc += 1 - success.float().mean(axis=-1).to('cpu')\n",
        "    count += 1\n",
        "    \n",
        "    torch.cuda.empty_cache()\n",
        "\n",
        "running_acc /= count\n",
        "for eps, acc in zip(epsilons, running_acc):\n",
        "  print(f\"  L2 norm ≤ {eps:<6}: {acc.item() * 100:4.1f} %\")"
      ],
      "execution_count": null,
      "outputs": [
        {
          "output_type": "stream",
          "text": [
            "100%|██████████| 313/313 [3:05:30<00:00, 35.56s/batch]"
          ],
          "name": "stderr"
        },
        {
          "output_type": "stream",
          "text": [
            "  L2 norm ≤ 0.1   : 85.9 %\n",
            "  L2 norm ≤ 0.3   : 26.0 %\n",
            "  L2 norm ≤ 0.5   :  4.8 %\n",
            "  L2 norm ≤ 2     :  0.0 %\n"
          ],
          "name": "stdout"
        },
        {
          "output_type": "stream",
          "text": [
            "\n"
          ],
          "name": "stderr"
        }
      ]
    }
  ]
}