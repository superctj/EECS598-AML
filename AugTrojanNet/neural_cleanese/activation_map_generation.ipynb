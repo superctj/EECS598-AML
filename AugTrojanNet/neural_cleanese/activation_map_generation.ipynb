{
 "cells": [
  {
   "cell_type": "code",
   "execution_count": 1,
   "metadata": {},
   "outputs": [],
   "source": [
    "import numpy as np\n",
    "import os\n",
    "import random\n",
    "import sys\n",
    "import tensorflow as tf\n",
    "import matplotlib.pyplot as plt\n",
    "\n",
    "random.seed(123)\n",
    "np.random.seed(123)\n",
    "tf.random.set_seed(123)\n",
    "\n",
    "from keras.models import load_model\n",
    "\n",
    "sys.path.append(\"../../../code\")\n",
    "from TrojanNet.trojannet import TrojanNet\n",
    "from TrojanNet.aug_trojannet import AugTrojanNet\n",
    "from GTSRB.GTSRB import GTRSRB\n"
   ]
  },
  {
   "cell_type": "code",
   "execution_count": 2,
   "metadata": {},
   "outputs": [
    {
     "name": "stdout",
     "output_type": "stream",
     "text": [
      "/home/mlgao/TrojanNet/code/TrojanNet/Model/trojannet.h5\n"
     ]
    }
   ],
   "source": [
    "backnet = TrojanNet()\n",
    "backnet.attack_left_up_point = (1, 1)\n",
    "backnet.synthesize_backdoor_map(all_point=16, select_point=5)\n",
    "backnet.trojannet_model()\n",
    "backnet.load_model()\n",
    "weight_shapes = [w.shape for w in backnet.model.get_weights()]\n",
    "weight_shapes\n",
    "weight0 = backnet.model.layers[0].get_weights()[0]"
   ]
  },
  {
   "cell_type": "code",
   "execution_count": 3,
   "metadata": {},
   "outputs": [],
   "source": [
    "overall_weight = np.zeros((32*32, 8))\n",
    "mask = np.zeros((32, 32), np.int8)\n",
    "mask[1:5, 1:5] = 1\n",
    "mask = mask.reshape((-1))\n",
    "weight0_idx = 0\n",
    "for i in range(len(mask)):\n",
    "    if mask[i] > 0:\n",
    "        for j in range(8):\n",
    "            overall_weight[i][j] = weight0[weight0_idx][j]\n",
    "        weight0_idx += 1"
   ]
  },
  {
   "cell_type": "code",
   "execution_count": 4,
   "metadata": {},
   "outputs": [
    {
     "data": {
      "text/plain": [
       "Text(0.5, 1.0, 'Activation Map of TrojanNet')"
      ]
     },
     "execution_count": 4,
     "metadata": {},
     "output_type": "execute_result"
    },
    {
     "data": {
      "image/png": "[encoded data removed]",
      "text/plain": [
       "<Figure size 432x288 with 1 Axes>"
      ]
     },
     "metadata": {
      "needs_background": "light"
     },
     "output_type": "display_data"
    }
   ],
   "source": [
    "activation = np.random.randn(32, 32)\n",
    "plt.imshow(mask.reshape((32,32)))\n",
    "activation = activation.reshape((-1,1))\n",
    "prod = np.matmul(np.transpose(overall_weight), activation)\n",
    "lr = 0.01\n",
    "for i in range(10000):\n",
    "    gradient = np.matmul(overall_weight, np.matmul(np.transpose(overall_weight), activation))\n",
    "    activation += lr * gradient\n",
    "    \n",
    "plt.imshow(activation.reshape((32,32)))\n",
    "plt.title(\"Activation Map of TrojanNet\")"
   ]
  },
  {
   "cell_type": "code",
   "execution_count": 5,
   "metadata": {},
   "outputs": [
    {
     "name": "stdout",
     "output_type": "stream",
     "text": [
      "[[-1.0856306 ]\n",
      " [ 0.99734545]\n",
      " [ 0.2829785 ]\n",
      " ...\n",
      " [ 0.159412  ]\n",
      " [-0.2943957 ]\n",
      " [-0.86042676]]\n"
     ]
    }
   ],
   "source": [
    "print(activation)"
   ]
  },
  {
   "cell_type": "code",
   "execution_count": 27,
   "metadata": {},
   "outputs": [],
   "source": [
    "overall_weight = np.zeros((32*32, 25))\n",
    "mask = np.zeros((32, 32), np.int8)\n",
    "mask[1:5, 1:5] = 1\n",
    "mask = mask.reshape((-1))\n",
    "weight0_idx = 0\n",
    "for i in range(32*32):\n",
    "    if (i%32 < 9) and (i//32 <9):\n",
    "        overall_weight[i, 0] = random.gauss(1/243, 1/243/3)\n",
    "    elif (i%32 < 15) and (i//32<9):\n",
    "        overall_weight[i, 1] = random.gauss(1/162, 1/162/3)\n",
    "    elif (i%32 < 21) and (i//32<9):\n",
    "        overall_weight[i, 2] = random.gauss(1/162, 1/162/3)\n",
    "    elif (i%32 < 32) and (i//32<9):\n",
    "        overall_weight[i, 3] = random.gauss(1/297, 1/162/3)\n",
    "    elif (i%32 < 9) and (i//32 <15):\n",
    "        overall_weight[i, 4] = random.gauss(1/162, 1/162/3)\n",
    "    elif (i%32 < 15) and (i//32<15):\n",
    "        overall_weight[i, 5] = random.gauss(1/108, 1/108/3)\n",
    "    elif (i%32 < 21) and (i//32<15):\n",
    "        overall_weight[i, 6] = random.gauss(1/108, 1/108/3)\n",
    "    elif (i%32 < 32) and (i//32<15):\n",
    "        overall_weight[i, 7] = random.gauss(1/198, 1/198/3)\n",
    "    elif (i%32 < 9) and (i//32 <21):\n",
    "        overall_weight[i, 8] = random.gauss(1/162, 1/162/3)\n",
    "    elif (i%32 < 15) and (i//32<21):\n",
    "        overall_weight[i, 9] = random.gauss(1/108, 1/108/3)\n",
    "    elif (i%32 < 21) and (i//32<21):\n",
    "        overall_weight[i, 10] = random.gauss(1/108, 1/108/3)\n",
    "    elif (i%32 < 32) and (i//32<21):\n",
    "        overall_weight[i, 11] = random.gauss(1/198, 1/198/3)\n",
    "    elif (i%32 < 9) and (i//32 <32):\n",
    "        overall_weight[i, 12] = random.gauss(1/297, 1/297/3)\n",
    "    elif (i%32 < 15) and (i//32<32):\n",
    "        overall_weight[i, 13] = random.gauss(1/198, 1/198/3)\n",
    "    elif (i%32 < 21) and (i//32<32):\n",
    "        overall_weight[i, 14] = random.gauss(1/198, 1/198/3)\n",
    "    elif (i%32 < 32) and (i//32<32):\n",
    "        overall_weight[i, 15] = random.gauss(1/363, 1/198/363)\n",
    "\n",
    "overall_weight[6*32+6, 0] = 0.5\n",
    "overall_weight[6*32+12, 1] = 0.5\n",
    "overall_weight[6*32+18, 2] = 0.5\n",
    "overall_weight[6*32+24, 3] = 0.5\n",
    "overall_weight[12*32+6, 4] = 0.5\n",
    "overall_weight[12*32+12, 5] = 0.5\n",
    "overall_weight[12*32+18, 6] = 0.5\n",
    "overall_weight[12*32+24, 7] = 0.5\n",
    "overall_weight[18*32+6, 8] = 0.5\n",
    "overall_weight[18*32+12, 9] = 0.5\n",
    "overall_weight[18*32+18, 10] = 0.5\n",
    "overall_weight[18*32+24, 11] = 0.5\n",
    "overall_weight[24*32+6, 12] = 0.5\n",
    "overall_weight[24*32+12, 13] = 0.5\n",
    "overall_weight[24*32+18, 14] = 0.5\n",
    "overall_weight[24*32+24, 15] = 0.5"
   ]
  },
  {
   "cell_type": "code",
   "execution_count": 30,
   "metadata": {},
   "outputs": [
    {
     "data": {
      "text/plain": [
       "Text(0.5, 1.0, 'Activation Map of AugTrojanNet')"
      ]
     },
     "execution_count": 30,
     "metadata": {},
     "output_type": "execute_result"
    },
    {
     "data": {
      "image/png": "[encoded data removed]",
      "text/plain": [
       "<Figure size 432x288 with 1 Axes>"
      ]
     },
     "metadata": {
      "needs_background": "light"
     },
     "output_type": "display_data"
    }
   ],
   "source": [
    "activation = np.random.randn(32, 32)\n",
    "plt.imshow(mask.reshape((32,32)))\n",
    "activation = activation.reshape((-1,1))\n",
    "prod = np.matmul(np.transpose(overall_weight), activation)\n",
    "lr = 0.01\n",
    "for i in range(1000):\n",
    "    gradient = np.matmul(overall_weight, np.matmul(np.transpose(overall_weight), activation))\n",
    "    activation += lr * gradient\n",
    "    \n",
    "plt.imshow(activation.reshape((32,32)))\n",
    "plt.title(\"Activation Map of AugTrojanNet\")"
   ]
  },
  {
   "cell_type": "code",
   "execution_count": null,
   "metadata": {},
   "outputs": [],
   "source": []
  }
 ],
 "metadata": {
  "kernelspec": {
   "display_name": "Python 3",
   "language": "python",
   "name": "python3"
  },
  "language_info": {
   "codemirror_mode": {
    "name": "ipython",
    "version": 3
   },
   "file_extension": ".py",
   "mimetype": "text/x-python",
   "name": "python",
   "nbconvert_exporter": "python",
   "pygments_lexer": "ipython3",
   "version": "3.8.3"
  }
 },
 "nbformat": 4,
 "nbformat_minor": 4
}
